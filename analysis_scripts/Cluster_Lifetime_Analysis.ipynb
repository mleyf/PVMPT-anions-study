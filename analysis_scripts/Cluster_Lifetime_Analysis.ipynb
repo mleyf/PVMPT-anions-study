{
 "cells": [
  {
   "cell_type": "code",
   "execution_count": 1,
   "id": "e68aaf3f-a21d-49e4-9429-569ac8108a53",
   "metadata": {},
   "outputs": [],
   "source": [
    "import numpy as np\n",
    "import pandas as pd\n",
    "import sys\n",
    "import os\n",
    "\n",
    "from sklearn.metrics import r2_score\n",
    "from sklearn.linear_model import LinearRegression\n",
    "\n",
    "from matplotlib import pyplot as plt\n",
    "from matplotlib.ticker import MultipleLocator\n",
    "import matplotlib.ticker as ticker\n",
    "from mpl_toolkits.mplot3d import Axes3D\n",
    "\n",
    "import MDAnalysis as mda\n",
    "from MDAnalysis.analysis import rdf\n",
    "from sklearn.cluster import DBSCAN\n",
    "\n",
    "from tqdm import tqdm\n",
    "from datetime import datetime"
   ]
  },
  {
   "cell_type": "markdown",
   "id": "b5877c2b-fa7b-4026-931b-089442aca55b",
   "metadata": {},
   "source": [
    "## Cluster Analysis"
   ]
  },
  {
   "cell_type": "markdown",
   "id": "20ea4fab-5b47-45ee-b117-a7ecd64ebded",
   "metadata": {},
   "source": [
    "### Cluster Lifetime Distribution"
   ]
  },
  {
   "cell_type": "code",
   "execution_count": 2,
   "id": "fc62896b-8150-4424-a39a-9fba3fe4aceb",
   "metadata": {},
   "outputs": [],
   "source": [
    "polymer = \"PVMPT\"\n",
    "mainpath=f\"/Volumes/project/depablo/mleyf3/DMREF/{polymer}_Simulations\""
   ]
  },
  {
   "cell_type": "code",
   "execution_count": 3,
   "id": "24b78053-8a77-46df-b31b-7743e1f9d95b",
   "metadata": {},
   "outputs": [],
   "source": [
    "def read_xvg(filename):\n",
    "    times = []\n",
    "    values = []\n",
    "    with open(filename, 'r') as f:\n",
    "        for line in f:\n",
    "            if line.startswith(('#', '@')):\n",
    "                continue\n",
    "            parts = line.split()\n",
    "            times.append(float(parts[0]))\n",
    "            values.append(float(parts[1]))\n",
    "    return np.array(times), np.array(values)"
   ]
  },
  {
   "cell_type": "code",
   "execution_count": 9,
   "id": "1d335004-f654-4577-b3aa-6c4baa0bbc3f",
   "metadata": {},
   "outputs": [],
   "source": [
    "import MDAnalysis as mda\n",
    "from MDAnalysis.lib.distances import capped_distance\n",
    "import numpy as np\n",
    "import matplotlib.pyplot as plt\n",
    "\n",
    "polymer=\"PVMPT\"\n",
    "temp=\"673\"\n",
    "anion=\"OTf\"\n",
    "timing=\"200\"\n",
    "percent=\"10\"\n",
    "\n",
    "RDF_cutoff= 1 #nm\n",
    "\n",
    "# 1. Load trajectory with PBC handling\n",
    "mainpath=f\"/Volumes/project/depablo/mleyf3/DMREF/{polymer}_Simulations\"\n",
    "data_path=f\"{mainpath}/{polymer}-EC_EMC_TBA{anion}/{percent}_Percent_0_SoC/cool/cool_from_{timing}ns\"\n",
    "u = mda.Universe(f'{data_path}/EXTEND_equilibration_snapshot_at_{temp}K.tpr', f'{data_path}/merged_{temp}K_mol_last100ns.xtc') "
   ]
  },
  {
   "cell_type": "code",
   "execution_count": 10,
   "id": "c1c4c507-476b-40c9-adc1-660f97287b1b",
   "metadata": {},
   "outputs": [
    {
     "data": {
      "text/plain": [
       "10001"
      ]
     },
     "execution_count": 10,
     "metadata": {},
     "output_type": "execute_result"
    }
   ],
   "source": [
    "len(u.trajectory)"
   ]
  },
  {
   "cell_type": "code",
   "execution_count": null,
   "id": "55fcb8bc-ed25-444b-9640-f82660f1548e",
   "metadata": {},
   "outputs": [
    {
     "name": "stdout",
     "output_type": "stream",
     "text": [
      "Processing 10001 frames from 100.0 ns to 200.0 ns\n"
     ]
    },
    {
     "name": "stderr",
     "output_type": "stream",
     "text": [
      "Analyzing ion pairs:  85%|████████████████   | 8482/10000 [29:54<07:22,  3.43frames/s]"
     ]
    }
   ],
   "source": [
    "import MDAnalysis as mda\n",
    "from MDAnalysis.lib.distances import capped_distance\n",
    "import numpy as np\n",
    "import matplotlib.pyplot as plt\n",
    "from tqdm import tqdm\n",
    "import time\n",
    "\n",
    "# Find start frame for last 100 ns\n",
    "total_time = u.trajectory[-1].time  # Total simulation time in ps\n",
    "start_time = total_time - 100000    # 100 ns = 100,000 ps\n",
    "start_frame = None\n",
    "for ts in u.trajectory:\n",
    "    if ts.time >= start_time:\n",
    "        start_frame = ts.frame\n",
    "        break\n",
    "\n",
    "# Calculate total frames to process\n",
    "total_frames = len(u.trajectory) - start_frame if start_frame else len(u.trajectory)\n",
    "print(f\"Processing {total_frames} frames from {start_time/1000:.1f} ns to {total_time/1000:.1f} ns\")\n",
    "\n",
    "# 2. Atom selections\n",
    "tba = u.select_atoms('resname TBA')\n",
    "anions = u.select_atoms(f'resname {anion}')  # Modify for your anions\n",
    "\n",
    "# 3. PBC-aware pairwise distance calculation parameters\n",
    "cutoff = RDF_cutoff  # nm (RDF-derived cutoff)\n",
    "box = u.dimensions  # Get initial box dimensions\n",
    "\n",
    "# 4. Initialize tracking dictionary\n",
    "ion_pairs = {}\n",
    "pair_history = {}\n",
    "\n",
    "# 5. First frame: Identify initial pairs\n",
    "ts = u.trajectory[start_frame if start_frame else 0]\n",
    "positions_tba = tba.unwrap() - tba.center_of_geometry()\n",
    "positions_anions = anions.unwrap() - anions.center_of_geometry()\n",
    "\n",
    "# Capped_distance call\n",
    "distances, indices = capped_distance(positions_tba, positions_anions, cutoff, box=box)\n",
    "if indices.size > 0:\n",
    "    indices = indices[:len(indices)//2 * 2].reshape(-1, 2).astype(int)\n",
    "else:\n",
    "    indices = np.empty((0, 2), dtype=int)\n",
    "\n",
    "for pair in indices:\n",
    "    i, j = pair[0], pair[1]\n",
    "    pair_id = (tba[i].resid, anions[j].resid)\n",
    "    ion_pairs[pair_id] = {'start': ts.time, 'lifetime': 0, 'active': True}\n",
    "\n",
    "# 6. Process subsequent frames with progress bar\n",
    "start_analysis_time = time.time()\n",
    "frame_start = (start_frame + 1) if start_frame else 1\n",
    "\n",
    "# Create progress bar\n",
    "pbar = tqdm(\n",
    "    total=total_frames - 1,  # Subtract 1 since we already processed first frame\n",
    "    desc=\"Analyzing ion pairs\",\n",
    "    unit=\"frames\",\n",
    "    bar_format=\"{desc}: {percentage:3.0f}%|{bar}| {n_fmt}/{total_fmt} [{elapsed}<{remaining}, {rate_fmt}]\"\n",
    ")\n",
    "\n",
    "for frame_idx, ts in enumerate(u.trajectory[frame_start:]):\n",
    "    box = ts.dimensions\n",
    "    positions_tba = tba.unwrap() - tba.center_of_geometry()\n",
    "    positions_anions = anions.unwrap() - anions.center_of_geometry()\n",
    "    \n",
    "    # Capped_distance call\n",
    "    distances, indices = capped_distance(positions_tba, positions_anions, cutoff, box=box)\n",
    "    if indices.size > 0:\n",
    "        indices = indices[:len(indices)//2 * 2].reshape(-1, 2).astype(int)\n",
    "    else:\n",
    "        indices = np.empty((0, 2), dtype=int)\n",
    "    \n",
    "    current_pairs = {(tba[pair[0]].resid, anions[pair[1]].resid) for pair in indices}\n",
    " \n",
    "    # Update existing pairs\n",
    "    for pair_id in list(ion_pairs.keys()):\n",
    "        if pair_id in current_pairs:\n",
    "            ion_pairs[pair_id]['lifetime'] += ts.dt\n",
    "        else:\n",
    "            # Store completed lifetime\n",
    "            if ion_pairs[pair_id]['lifetime'] > 0:\n",
    "                pair_history.setdefault(pair_id, []).append(ion_pairs[pair_id]['lifetime'])\n",
    "            del ion_pairs[pair_id]\n",
    "    \n",
    "    # Add new pairs\n",
    "    for i, j in indices:\n",
    "        pair_id = (tba[i].resid, anions[j].resid)\n",
    "        if pair_id not in ion_pairs:\n",
    "            ion_pairs[pair_id] = {'start': ts.time, 'lifetime': ts.dt, 'active': True}\n",
    "    \n",
    "    # Update progress bar with additional info\n",
    "    if frame_idx % 100 == 0:  # Update every 100 frames to avoid overhead\n",
    "        active_pairs = len(ion_pairs)\n",
    "        total_tracked = sum(len(lifetimes) for lifetimes in pair_history.values())\n",
    "        pbar.set_postfix_str(f\"Active: {active_pairs}, Tracked: {total_tracked}\")\n",
    "    \n",
    "    pbar.update(1)\n",
    "\n",
    "pbar.close()\n",
    "\n",
    "# Calculate total analysis time\n",
    "total_analysis_time = time.time() - start_analysis_time\n",
    "print(f\"\\nAnalysis completed in {total_analysis_time:.2f} seconds\")\n",
    "\n",
    "# 7. Collect all lifetimes\n",
    "all_lifetimes = []\n",
    "for lifetimes in pair_history.values():\n",
    "    all_lifetimes.extend(lifetimes)\n",
    "\n",
    "# Convert to numpy array and filter short lifetimes\n",
    "all_lifetimes = np.array(all_lifetimes)\n",
    "all_lifetimes = all_lifetimes[all_lifetimes > 0]  # Remove zero-duration pairs\n",
    "\n",
    "# Save as CSV\n",
    "np.savetxt(f'{data_path}/all_lifetimes_{temp}K_last100ns.csv', all_lifetimes, delimiter=',', fmt='%g')\n",
    "\n",
    "# 8. Analysis and visualization\n",
    "print(f\"Total tracked pairs: {len(all_lifetimes)}\")\n",
    "print(f\"Mean lifetime: {np.mean(all_lifetimes):.2f} ps\")\n",
    "print(f\"Median lifetime: {np.median(all_lifetimes):.2f} ps\")"
   ]
  },
  {
   "cell_type": "code",
   "execution_count": null,
   "id": "3eb4c7ac-753e-435a-a31f-2f7a36138dfe",
   "metadata": {},
   "outputs": [],
   "source": [
    "print(data_path)"
   ]
  },
  {
   "cell_type": "code",
   "execution_count": null,
   "id": "72ba0dca-06d7-4aeb-a095-ce5ca13b19f2",
   "metadata": {},
   "outputs": [],
   "source": [
    "fig, ax = plt.subplots(figsize=(7, 6))\n",
    "\n",
    "\n",
    "ax.hist(all_lifetimes, bins=50, density=True, alpha=0.7)\n",
    "ax.set_xlabel('Lifetime (ps)', fontsize=24)\n",
    "ax.set_ylabel('Probability Density', fontsize=24)\n",
    "ax.set_title('Ion Pair Lifetime Distribution', fontsize=24, pad=10)\n",
    "#ax.set_ylim(0,1)\n",
    "\n",
    "####### FORMATTING ########\n",
    "for spine in ax.spines.values():\n",
    "    spine.set_linewidth(2.5)  # Makes the border thicker\n",
    "\n",
    "ax.yaxis.set_major_locator(ticker.MultipleLocator(0.002))\n",
    "ax.yaxis.set_minor_locator(MultipleLocator(0.001))  # Minor ticks every 10 units\n",
    "\n",
    "\n",
    "ax.xaxis.set_major_locator(ticker.MultipleLocator(1000))\n",
    "ax.xaxis.set_minor_locator(MultipleLocator(500))  # Minor ticks every 5 units\n",
    "\n",
    "\n",
    "ax.tick_params(axis='both', width=2.0, length=7, labelsize=20)\n",
    "ax.tick_params(axis='both', which='minor', width=2.0, length=4)\n",
    "\n",
    "plt.legend(fontsize=20, frameon=False)\n",
    "plt.tight_layout()\n",
    "plt.savefig(f'Anion study/data/{polymer}-EC_EMC_TBA{anion}/{percent}_Percent_0_SoC/ion-pair-lifetimes_{temp}K_{timing}ns.png', \n",
    "            bbox_inches='tight', dpi=300)\n",
    "plt.show()"
   ]
  },
  {
   "cell_type": "code",
   "execution_count": null,
   "id": "f70843b7-6c86-4eaa-a42f-fc41c664c6d4",
   "metadata": {},
   "outputs": [],
   "source": []
  }
 ],
 "metadata": {
  "kernelspec": {
   "display_name": "Python 3 (ipykernel)",
   "language": "python",
   "name": "python3"
  },
  "language_info": {
   "codemirror_mode": {
    "name": "ipython",
    "version": 3
   },
   "file_extension": ".py",
   "mimetype": "text/x-python",
   "name": "python",
   "nbconvert_exporter": "python",
   "pygments_lexer": "ipython3",
   "version": "3.12.4"
  }
 },
 "nbformat": 4,
 "nbformat_minor": 5
}
